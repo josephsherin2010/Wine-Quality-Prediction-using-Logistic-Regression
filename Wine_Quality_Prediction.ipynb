{
 "cells": [
  {
   "cell_type": "code",
   "execution_count": 96,
   "id": "916b77b0",
   "metadata": {},
   "outputs": [],
   "source": [
    "#Import the dataset\n",
    "\n",
    "import pandas as pd\n",
    "import numpy as np\n",
    "df = pd.read_csv('winequality.csv')"
   ]
  },
  {
   "cell_type": "markdown",
   "id": "8645c996",
   "metadata": {},
   "source": [
    "--> The data is read from 'winequality.csv' and saved in to data frame 'df'."
   ]
  },
  {
   "cell_type": "code",
   "execution_count": 97,
   "id": "268107fa",
   "metadata": {},
   "outputs": [
    {
     "name": "stdout",
     "output_type": "stream",
     "text": [
      "    type  fixed_acidity  volatile_acidity  citric_acid  residual_sugar  \\\n",
      "0  white            7.0              0.27         0.36            20.7   \n",
      "1  white            6.3              0.30         0.34             1.6   \n",
      "2  white            8.1              0.28         0.40             6.9   \n",
      "3  white            7.2              0.23         0.32             8.5   \n",
      "4  white            7.2              0.23         0.32             8.5   \n",
      "\n",
      "   chlorides  free_sulfur_dioxide  total_sulfur_dioxide  density    pH  \\\n",
      "0      0.045                 45.0                 170.0   1.0010  3.00   \n",
      "1      0.049                 14.0                 132.0   0.9940  3.30   \n",
      "2      0.050                 30.0                  97.0   0.9951  3.26   \n",
      "3      0.058                 47.0                 186.0   0.9956  3.19   \n",
      "4      0.058                 47.0                 186.0   0.9956  3.19   \n",
      "\n",
      "   sulphates  alcohol  quality  \n",
      "0       0.45      8.8        6  \n",
      "1       0.49      9.5        6  \n",
      "2       0.44     10.1        6  \n",
      "3       0.40      9.9        6  \n",
      "4       0.40      9.9        6  \n"
     ]
    }
   ],
   "source": [
    "print(df.head())"
   ]
  },
  {
   "cell_type": "code",
   "execution_count": 98,
   "id": "1f59a228",
   "metadata": {},
   "outputs": [
    {
     "name": "stdout",
     "output_type": "stream",
     "text": [
      "<class 'pandas.core.frame.DataFrame'>\n",
      "RangeIndex: 6497 entries, 0 to 6496\n",
      "Data columns (total 13 columns):\n",
      " #   Column                Non-Null Count  Dtype  \n",
      "---  ------                --------------  -----  \n",
      " 0   type                  6497 non-null   object \n",
      " 1   fixed_acidity         6487 non-null   float64\n",
      " 2   volatile_acidity      6489 non-null   float64\n",
      " 3   citric_acid           6494 non-null   float64\n",
      " 4   residual_sugar        6495 non-null   float64\n",
      " 5   chlorides             6495 non-null   float64\n",
      " 6   free_sulfur_dioxide   6497 non-null   float64\n",
      " 7   total_sulfur_dioxide  6497 non-null   float64\n",
      " 8   density               6497 non-null   float64\n",
      " 9   pH                    6488 non-null   float64\n",
      " 10  sulphates             6493 non-null   float64\n",
      " 11  alcohol               6497 non-null   float64\n",
      " 12  quality               6497 non-null   int64  \n",
      "dtypes: float64(11), int64(1), object(1)\n",
      "memory usage: 660.0+ KB\n"
     ]
    }
   ],
   "source": [
    "df.info()"
   ]
  },
  {
   "cell_type": "markdown",
   "id": "0ba055b5",
   "metadata": {},
   "source": [
    "--> The data info is printed and it has 6497 records with 13 columns\n",
    "    quality - (Target variable) with values from 3 to 9\n",
    "    The remaining 12 predictors which have datatype of int, float and String. Some of the columns have few missing values."
   ]
  },
  {
   "cell_type": "code",
   "execution_count": 99,
   "id": "e91a2629",
   "metadata": {},
   "outputs": [
    {
     "data": {
      "text/plain": [
       "1168"
      ]
     },
     "execution_count": 99,
     "metadata": {},
     "output_type": "execute_result"
    }
   ],
   "source": [
    "# Finding if there are any duplicate records\n",
    "df.duplicated().sum()"
   ]
  },
  {
   "cell_type": "markdown",
   "id": "ccedc519",
   "metadata": {},
   "source": [
    "--> There are 1168 duplicate observations in the data. So we will drop them."
   ]
  },
  {
   "cell_type": "code",
   "execution_count": 100,
   "id": "7faf1fb2",
   "metadata": {},
   "outputs": [],
   "source": [
    "# Dropping the duplicate entries\n",
    "df = df.drop_duplicates()"
   ]
  },
  {
   "cell_type": "code",
   "execution_count": 101,
   "id": "be980520",
   "metadata": {},
   "outputs": [
    {
     "data": {
      "text/plain": [
       "(5329, 13)"
      ]
     },
     "execution_count": 101,
     "metadata": {},
     "output_type": "execute_result"
    }
   ],
   "source": [
    "# Identifying the shape of the data structure\n",
    "df.shape"
   ]
  },
  {
   "cell_type": "markdown",
   "id": "c4c07772",
   "metadata": {},
   "source": [
    " --> After droping the duplicates, we have 5329 rows and 13 columns."
   ]
  },
  {
   "cell_type": "code",
   "execution_count": 102,
   "id": "def9ae58",
   "metadata": {},
   "outputs": [
    {
     "data": {
      "text/plain": [
       "type                     0\n",
       "fixed_acidity           10\n",
       "volatile_acidity         8\n",
       "citric_acid              3\n",
       "residual_sugar           2\n",
       "chlorides                2\n",
       "free_sulfur_dioxide      0\n",
       "total_sulfur_dioxide     0\n",
       "density                  0\n",
       "pH                       9\n",
       "sulphates                4\n",
       "alcohol                  0\n",
       "quality                  0\n",
       "dtype: int64"
      ]
     },
     "execution_count": 102,
     "metadata": {},
     "output_type": "execute_result"
    }
   ],
   "source": [
    "#Finding the number of missing values in each column\n",
    "df.isna().sum()"
   ]
  },
  {
   "cell_type": "markdown",
   "id": "f0b70f1d",
   "metadata": {},
   "source": [
    "--> We could see that the missing values are : fixed_acidity - 10, volatile_acidity - 8, citric_acid - 3, \n",
    "    residual_sugar - 2, chlorides - 2, pH - 9 and sulphates - 4\n"
   ]
  },
  {
   "cell_type": "code",
   "execution_count": 103,
   "id": "f6c953c0",
   "metadata": {},
   "outputs": [],
   "source": [
    "#Fixing missing values in 'fixed_acidity'\n",
    "df.loc[(df.fixed_acidity.isna()) & (df.type == 'white'),['fixed_acidity']] = round(df[(df.fixed_acidity.notnull()) & (df.type == 'white')]['fixed_acidity'].mean(),1)\n",
    "df.loc[(df.fixed_acidity.isna()) & (df.type == 'red'),['fixed_acidity']] = round(df[(df.fixed_acidity.notnull()) & (df.type == 'red')]['fixed_acidity'].mean(),1)\n",
    "\n",
    "#Fixing missing values in 'volatile_acidity'\n",
    "df.loc[(df.volatile_acidity.isna()) & (df.type == 'white'),['volatile_acidity']] = round(df[(df.volatile_acidity.notnull()) & (df.type == 'white')]['volatile_acidity'].mean(),2)\n",
    "df.loc[(df.volatile_acidity.isna()) & (df.type == 'red'),['volatile_acidity']] = round(df[(df.volatile_acidity.notnull()) & (df.type == 'red')]['volatile_acidity'].mean(),2)\n",
    "\n",
    "#Fixing missing values in 'citric_acid'\n",
    "df.loc[(df.citric_acid.isna()) & (df.type == 'white'),['citric_acid']] = round(df[(df.citric_acid.notnull()) & (df.type == 'white')]['citric_acid'].mean(),2)\n",
    "df.loc[(df.citric_acid.isna()) & (df.type == 'red'),['citric_acid']] = round(df[(df.citric_acid.notnull()) & (df.type == 'red')]['citric_acid'].mean(),2)\n",
    "\n",
    "#Fixing missing values in 'residual_sugar'\n",
    "df.loc[(df.residual_sugar.isna()) & (df.type == 'white'),['residual_sugar']] = round(df[(df.residual_sugar.notnull()) & (df.type == 'white')]['residual_sugar'].mean(),2)\n",
    "df.loc[(df.residual_sugar.isna()) & (df.type == 'red'),['residual_sugar']] = round(df[(df.residual_sugar.notnull()) & (df.type == 'red')]['residual_sugar'].mean(),2)\n",
    "\n",
    "#Fixing missing values in 'chlorides'\n",
    "df.loc[(df.chlorides.isna()) & (df.type == 'white'),['chlorides']] = round(df[(df.chlorides.notnull()) & (df.type == 'white')]['chlorides'].mean(),3)\n",
    "df.loc[(df.chlorides.isna()) & (df.type == 'red'),['chlorides']] = round(df[(df.chlorides.notnull()) & (df.type == 'red')]['chlorides'].mean(),3)\n",
    "\n",
    "#Fixing missing values in 'pH'\n",
    "df.loc[(df.pH.isna()) & (df.type == 'white'),['pH']] = round(df[(df.pH.notnull()) & (df.type == 'white')]['pH'].mean(),2)\n",
    "df.loc[(df.pH.isna()) & (df.type == 'red'),['pH']] = round(df[(df.pH.notnull()) & (df.type == 'red')]['pH'].mean(),2)\n",
    "\n",
    "#Fixing missing values in 'sulphates'\n",
    "df.loc[(df.sulphates.isna()) & (df.type == 'white'),['sulphates']] = round(df[(df.sulphates.notnull()) & (df.type == 'white')]['sulphates'].mean(),2)\n",
    "df.loc[(df.sulphates.isna()) & (df.type == 'red'),['sulphates']] = round(df[(df.sulphates.notnull()) & (df.type == 'red')]['sulphates'].mean(),2)"
   ]
  },
  {
   "cell_type": "markdown",
   "id": "cb70245b",
   "metadata": {},
   "source": [
    "--> The missing values in each column is filled with the mean value of the variable according to the wine type."
   ]
  },
  {
   "cell_type": "code",
   "execution_count": 104,
   "id": "18e91d46",
   "metadata": {},
   "outputs": [
    {
     "data": {
      "text/plain": [
       "type                    0.0\n",
       "fixed_acidity           0.0\n",
       "volatile_acidity        0.0\n",
       "citric_acid             0.0\n",
       "residual_sugar          0.0\n",
       "chlorides               0.0\n",
       "free_sulfur_dioxide     0.0\n",
       "total_sulfur_dioxide    0.0\n",
       "density                 0.0\n",
       "pH                      0.0\n",
       "sulphates               0.0\n",
       "alcohol                 0.0\n",
       "quality                 0.0\n",
       "dtype: float64"
      ]
     },
     "execution_count": 104,
     "metadata": {},
     "output_type": "execute_result"
    }
   ],
   "source": [
    "df.isna().mean()"
   ]
  },
  {
   "cell_type": "code",
   "execution_count": 105,
   "id": "d271f313",
   "metadata": {},
   "outputs": [
    {
     "data": {
      "text/html": [
       "<div>\n",
       "<style scoped>\n",
       "    .dataframe tbody tr th:only-of-type {\n",
       "        vertical-align: middle;\n",
       "    }\n",
       "\n",
       "    .dataframe tbody tr th {\n",
       "        vertical-align: top;\n",
       "    }\n",
       "\n",
       "    .dataframe thead th {\n",
       "        text-align: right;\n",
       "    }\n",
       "</style>\n",
       "<table border=\"1\" class=\"dataframe\">\n",
       "  <thead>\n",
       "    <tr style=\"text-align: right;\">\n",
       "      <th></th>\n",
       "      <th>fixed_acidity</th>\n",
       "      <th>volatile_acidity</th>\n",
       "      <th>citric_acid</th>\n",
       "      <th>residual_sugar</th>\n",
       "      <th>chlorides</th>\n",
       "      <th>free_sulfur_dioxide</th>\n",
       "      <th>total_sulfur_dioxide</th>\n",
       "      <th>density</th>\n",
       "      <th>pH</th>\n",
       "      <th>sulphates</th>\n",
       "      <th>alcohol</th>\n",
       "      <th>quality</th>\n",
       "    </tr>\n",
       "  </thead>\n",
       "  <tbody>\n",
       "    <tr>\n",
       "      <th>count</th>\n",
       "      <td>5329.000000</td>\n",
       "      <td>5329.000000</td>\n",
       "      <td>5329.000000</td>\n",
       "      <td>5329.000000</td>\n",
       "      <td>5329.000000</td>\n",
       "      <td>5329.000000</td>\n",
       "      <td>5329.000000</td>\n",
       "      <td>5329.000000</td>\n",
       "      <td>5329.000000</td>\n",
       "      <td>5329.000000</td>\n",
       "      <td>5329.000000</td>\n",
       "      <td>5329.000000</td>\n",
       "    </tr>\n",
       "    <tr>\n",
       "      <th>mean</th>\n",
       "      <td>7.216354</td>\n",
       "      <td>0.344074</td>\n",
       "      <td>0.318733</td>\n",
       "      <td>5.054164</td>\n",
       "      <td>0.056664</td>\n",
       "      <td>30.060143</td>\n",
       "      <td>114.189341</td>\n",
       "      <td>0.994536</td>\n",
       "      <td>3.224434</td>\n",
       "      <td>0.533299</td>\n",
       "      <td>10.548539</td>\n",
       "      <td>5.796022</td>\n",
       "    </tr>\n",
       "    <tr>\n",
       "      <th>std</th>\n",
       "      <td>1.318221</td>\n",
       "      <td>0.168137</td>\n",
       "      <td>0.147077</td>\n",
       "      <td>4.503191</td>\n",
       "      <td>0.036838</td>\n",
       "      <td>17.815588</td>\n",
       "      <td>56.781422</td>\n",
       "      <td>0.002966</td>\n",
       "      <td>0.160151</td>\n",
       "      <td>0.149690</td>\n",
       "      <td>1.186134</td>\n",
       "      <td>0.879922</td>\n",
       "    </tr>\n",
       "    <tr>\n",
       "      <th>min</th>\n",
       "      <td>3.800000</td>\n",
       "      <td>0.080000</td>\n",
       "      <td>0.000000</td>\n",
       "      <td>0.600000</td>\n",
       "      <td>0.009000</td>\n",
       "      <td>1.000000</td>\n",
       "      <td>6.000000</td>\n",
       "      <td>0.987110</td>\n",
       "      <td>2.720000</td>\n",
       "      <td>0.220000</td>\n",
       "      <td>8.000000</td>\n",
       "      <td>3.000000</td>\n",
       "    </tr>\n",
       "    <tr>\n",
       "      <th>25%</th>\n",
       "      <td>6.400000</td>\n",
       "      <td>0.230000</td>\n",
       "      <td>0.240000</td>\n",
       "      <td>1.800000</td>\n",
       "      <td>0.038000</td>\n",
       "      <td>16.000000</td>\n",
       "      <td>75.000000</td>\n",
       "      <td>0.992200</td>\n",
       "      <td>3.110000</td>\n",
       "      <td>0.430000</td>\n",
       "      <td>9.500000</td>\n",
       "      <td>5.000000</td>\n",
       "    </tr>\n",
       "    <tr>\n",
       "      <th>50%</th>\n",
       "      <td>7.000000</td>\n",
       "      <td>0.300000</td>\n",
       "      <td>0.310000</td>\n",
       "      <td>2.700000</td>\n",
       "      <td>0.047000</td>\n",
       "      <td>28.000000</td>\n",
       "      <td>116.000000</td>\n",
       "      <td>0.994640</td>\n",
       "      <td>3.210000</td>\n",
       "      <td>0.510000</td>\n",
       "      <td>10.400000</td>\n",
       "      <td>6.000000</td>\n",
       "    </tr>\n",
       "    <tr>\n",
       "      <th>75%</th>\n",
       "      <td>7.700000</td>\n",
       "      <td>0.410000</td>\n",
       "      <td>0.400000</td>\n",
       "      <td>7.500000</td>\n",
       "      <td>0.066000</td>\n",
       "      <td>41.000000</td>\n",
       "      <td>154.000000</td>\n",
       "      <td>0.996770</td>\n",
       "      <td>3.330000</td>\n",
       "      <td>0.600000</td>\n",
       "      <td>11.400000</td>\n",
       "      <td>6.000000</td>\n",
       "    </tr>\n",
       "    <tr>\n",
       "      <th>max</th>\n",
       "      <td>15.900000</td>\n",
       "      <td>1.580000</td>\n",
       "      <td>1.660000</td>\n",
       "      <td>65.800000</td>\n",
       "      <td>0.611000</td>\n",
       "      <td>289.000000</td>\n",
       "      <td>440.000000</td>\n",
       "      <td>1.038980</td>\n",
       "      <td>4.010000</td>\n",
       "      <td>2.000000</td>\n",
       "      <td>14.900000</td>\n",
       "      <td>9.000000</td>\n",
       "    </tr>\n",
       "  </tbody>\n",
       "</table>\n",
       "</div>"
      ],
      "text/plain": [
       "       fixed_acidity  volatile_acidity  citric_acid  residual_sugar  \\\n",
       "count    5329.000000       5329.000000  5329.000000     5329.000000   \n",
       "mean        7.216354          0.344074     0.318733        5.054164   \n",
       "std         1.318221          0.168137     0.147077        4.503191   \n",
       "min         3.800000          0.080000     0.000000        0.600000   \n",
       "25%         6.400000          0.230000     0.240000        1.800000   \n",
       "50%         7.000000          0.300000     0.310000        2.700000   \n",
       "75%         7.700000          0.410000     0.400000        7.500000   \n",
       "max        15.900000          1.580000     1.660000       65.800000   \n",
       "\n",
       "         chlorides  free_sulfur_dioxide  total_sulfur_dioxide      density  \\\n",
       "count  5329.000000          5329.000000           5329.000000  5329.000000   \n",
       "mean      0.056664            30.060143            114.189341     0.994536   \n",
       "std       0.036838            17.815588             56.781422     0.002966   \n",
       "min       0.009000             1.000000              6.000000     0.987110   \n",
       "25%       0.038000            16.000000             75.000000     0.992200   \n",
       "50%       0.047000            28.000000            116.000000     0.994640   \n",
       "75%       0.066000            41.000000            154.000000     0.996770   \n",
       "max       0.611000           289.000000            440.000000     1.038980   \n",
       "\n",
       "                pH    sulphates      alcohol      quality  \n",
       "count  5329.000000  5329.000000  5329.000000  5329.000000  \n",
       "mean      3.224434     0.533299    10.548539     5.796022  \n",
       "std       0.160151     0.149690     1.186134     0.879922  \n",
       "min       2.720000     0.220000     8.000000     3.000000  \n",
       "25%       3.110000     0.430000     9.500000     5.000000  \n",
       "50%       3.210000     0.510000    10.400000     6.000000  \n",
       "75%       3.330000     0.600000    11.400000     6.000000  \n",
       "max       4.010000     2.000000    14.900000     9.000000  "
      ]
     },
     "execution_count": 105,
     "metadata": {},
     "output_type": "execute_result"
    }
   ],
   "source": [
    "# Describing the dataset\n",
    "df.describe()"
   ]
  },
  {
   "cell_type": "markdown",
   "id": "3ba26bf9",
   "metadata": {},
   "source": [
    "--> The 5 number summary, mean and standard deviation of each column is displayed above."
   ]
  },
  {
   "cell_type": "markdown",
   "id": "90b3d10a",
   "metadata": {},
   "source": [
    "                                             BIVARIATE ANALYSIS"
   ]
  },
  {
   "cell_type": "code",
   "execution_count": 12,
   "id": "abb985a9",
   "metadata": {},
   "outputs": [],
   "source": [
    "# Importing the required packages and libraries\n",
    "import pandas as pd\n",
    "import matplotlib.pyplot as plt\n",
    "import seaborn as sns\n",
    "sns.set_theme(style=\"darkgrid\")"
   ]
  },
  {
   "cell_type": "code",
   "execution_count": 14,
   "id": "70e19f5d",
   "metadata": {},
   "outputs": [
    {
     "data": {
      "image/png": "[encoded data removed]",
      "text/plain": [
       "<Figure size 432x288 with 1 Axes>"
      ]
     },
     "metadata": {},
     "output_type": "display_data"
    }
   ],
   "source": [
    "# Finding the mean wine quality of the different type of wine\n",
    "ax = sns.barplot(x=\"type\", y=\"quality\", data=df,palette=[\"oldlace\", \"firebrick\"],edgecolor='black',alpha=0.8)\n",
    "ax.set(xlabel=\"Wine Type\", ylabel = \"Wine Quality\")\n",
    "ax.set_facecolor(\"gainsboro\")"
   ]
  },
  {
   "cell_type": "markdown",
   "id": "8db58b77",
   "metadata": {},
   "source": [
    "--> The mean quality of white wine is about 5.9 and red wine is 5.5 "
   ]
  },
  {
   "cell_type": "code",
   "execution_count": 16,
   "id": "7d0b9d68",
   "metadata": {},
   "outputs": [
    {
     "name": "stderr",
     "output_type": "stream",
     "text": [
      "<ipython-input-16-61b8a5fae744>:3: MatplotlibDeprecationWarning: Adding an axes using the same arguments as a previous axes currently reuses the earlier instance.  In a future version, a new instance will always be created and returned.  Meanwhile, this warning can be suppressed, and the future behavior ensured, by passing a unique label to each axes instance.\n",
      "  ax = plt.axes()\n"
     ]
    },
    {
     "data": {
      "image/png": "[encoded data removed]",
      "text/plain": [
       "<Figure size 432x288 with 1 Axes>"
      ]
     },
     "metadata": {},
     "output_type": "display_data"
    }
   ],
   "source": [
    "# Finding the frequency distribution of the quality according to wine type\n",
    "pd.crosstab(df.quality,df.type).plot(kind = 'bar',color = ['firebrick','oldlace'],edgecolor='black')\n",
    "ax = plt.axes()\n",
    "ax.set_facecolor(\"gainsboro\")\n",
    "\n",
    "plt.xlabel('Wine Quality', fontsize=16)\n",
    "plt.ylabel('Count', fontsize=16)\n",
    "plt.title('Wine Quality vs Wine Type',fontsize=20)\n",
    "\n",
    "plt.show()"
   ]
  },
  {
   "cell_type": "code",
   "execution_count": 18,
   "id": "d8652f6c",
   "metadata": {},
   "outputs": [
    {
     "name": "stdout",
     "output_type": "stream",
     "text": [
      "type     red  white\n",
      "quality            \n",
      "3         10     20\n",
      "4         53    163\n",
      "5        681   1457\n",
      "6        638   2198\n",
      "7        199    880\n",
      "8         18    175\n",
      "9          0      5\n"
     ]
    }
   ],
   "source": [
    "# Creating contgency table\n",
    "contigency_table = pd.crosstab(df.quality,df.type)\n",
    "print(contigency_table)"
   ]
  },
  {
   "cell_type": "markdown",
   "id": "40b1c83b",
   "metadata": {},
   "source": [
    "--> Contigency table is created as shown above."
   ]
  },
  {
   "cell_type": "code",
   "execution_count": 19,
   "id": "834e2f2b",
   "metadata": {},
   "outputs": [],
   "source": [
    "# Performing chi-squared test to test the independency\n",
    "from scipy.stats.contingency import chi2_contingency\n",
    "\n",
    "chi_2, p_val, dof, exp_val = chi2_contingency(contigency_table)"
   ]
  },
  {
   "cell_type": "code",
   "execution_count": 20,
   "id": "79768dcd",
   "metadata": {},
   "outputs": [
    {
     "name": "stdout",
     "output_type": "stream",
     "text": [
      "P-value = : 8.66434779598271e-23\n",
      "DOF = : 6\n"
     ]
    }
   ],
   "source": [
    "print(\"P-value = :\",p_val)\n",
    "print(\"DOF = :\",dof)"
   ]
  },
  {
   "cell_type": "code",
   "execution_count": 21,
   "id": "093b4f8b",
   "metadata": {},
   "outputs": [
    {
     "name": "stdout",
     "output_type": "stream",
     "text": [
      "There is some correlation between the two variables at significance level 0.05\n"
     ]
    }
   ],
   "source": [
    "#set significance level here\n",
    "sig_lev = 0.05\n",
    "if p_val < sig_lev:\n",
    "    print(\"There is some correlation between the two variables at significance level {}\".format(sig_lev))\n",
    "else:\n",
    "    print(\"There is no correlation between the two variables\")"
   ]
  },
  {
   "cell_type": "markdown",
   "id": "be4e80ab",
   "metadata": {},
   "source": [
    "--> As the chi-squared p_val < 0.05, we reject the null hypothesis that the variables are independent at significance level 0.05. To conclude they have some correlation with each other and mean quality or wine types are different."
   ]
  },
  {
   "cell_type": "code",
   "execution_count": 22,
   "id": "33025274",
   "metadata": {},
   "outputs": [
    {
     "data": {
      "image/png": "[encoded data removed]",
      "text/plain": [
       "<Figure size 432x288 with 1 Axes>"
      ]
     },
     "metadata": {},
     "output_type": "display_data"
    }
   ],
   "source": [
    "# Grouped bar plot for quality vs fixed_acidity for wine types\n",
    "sns.set_theme(style=\"darkgrid\", palette=\"pastel\")\n",
    "sns.barplot(x=\"quality\", y=\"fixed_acidity\",hue=\"type\", palette=[\"b\", \"r\"],data=df)\n",
    "sns.despine(offset=10, trim=True)"
   ]
  },
  {
   "cell_type": "code",
   "execution_count": 23,
   "id": "97a44a17",
   "metadata": {},
   "outputs": [
    {
     "data": {
      "image/png": "[encoded data removed]",
      "text/plain": [
       "<Figure size 432x288 with 1 Axes>"
      ]
     },
     "metadata": {},
     "output_type": "display_data"
    }
   ],
   "source": [
    "# Grouped bar plot for quality vs volatile_acidity for wine types\n",
    "sns.set_theme(style=\"darkgrid\", palette=\"pastel\")\n",
    "sns.barplot(x=\"quality\", y=\"volatile_acidity\",hue=\"type\", palette=[\"b\", \"r\"],data=df)\n",
    "sns.despine(offset=10, trim=True)"
   ]
  },
  {
   "cell_type": "code",
   "execution_count": 24,
   "id": "fcf03399",
   "metadata": {},
   "outputs": [
    {
     "data": {
      "image/png": "[encoded data removed]",
      "text/plain": [
       "<Figure size 432x288 with 1 Axes>"
      ]
     },
     "metadata": {},
     "output_type": "display_data"
    }
   ],
   "source": [
    "# Grouped bar plot for quality vs citric_acid for wine types\n",
    "sns.set_theme(style=\"darkgrid\", palette=\"pastel\")\n",
    "sns.barplot(x=\"quality\", y=\"citric_acid\",hue=\"type\", palette=[\"b\", \"r\"],data=df)\n",
    "sns.despine(offset=10, trim=True)"
   ]
  },
  {
   "cell_type": "code",
   "execution_count": 31,
   "id": "82a4af16",
   "metadata": {},
   "outputs": [
    {
     "data": {
      "image/png": "[encoded data removed]",
      "text/plain": [
       "<Figure size 432x288 with 1 Axes>"
      ]
     },
     "metadata": {},
     "output_type": "display_data"
    }
   ],
   "source": [
    "# Removing outliers\n",
    "df.drop(df[df.residual_sugar >= 30].index, inplace=True)\n",
    "\n",
    "# Grouped histogram for residual_sugar distribution for wine types\n",
    "sns.set_theme(style=\"darkgrid\", palette=\"pastel\")\n",
    "sns.histplot(data=df, x=\"residual_sugar\",hue=\"type\", label=\"Sepal Length\",palette=[\"b\", \"crimson\"], kde=True)\n",
    "sns.despine(offset=10, trim=True)"
   ]
  },
  {
   "cell_type": "code",
   "execution_count": 28,
   "id": "5dcbfef2",
   "metadata": {},
   "outputs": [
    {
     "data": {
      "image/png": "[encoded data removed]",
      "text/plain": [
       "<Figure size 432x288 with 1 Axes>"
      ]
     },
     "metadata": {},
     "output_type": "display_data"
    }
   ],
   "source": [
    "# Grouped bar plot for quality vs chlorides for wine types\n",
    "sns.set_theme(style=\"darkgrid\", palette=\"pastel\")\n",
    "sns.barplot(x=\"quality\", y=\"chlorides\",hue=\"type\", palette=[\"b\", \"r\"],data=df)\n",
    "sns.despine(offset=10, trim=True)"
   ]
  },
  {
   "cell_type": "code",
   "execution_count": 30,
   "id": "eb15df4c",
   "metadata": {},
   "outputs": [
    {
     "data": {
      "image/png": "[encoded data removed]",
      "text/plain": [
       "<Figure size 432x288 with 1 Axes>"
      ]
     },
     "metadata": {},
     "output_type": "display_data"
    }
   ],
   "source": [
    "# Removing outliers\n",
    "df.drop(df[df.free_sulfur_dioxide >= 120].index, inplace=True)\n",
    "\n",
    "# Grouped histogram for distribution of free_sulfur_dioxide for wine types\n",
    "sns.set_theme(style=\"darkgrid\", palette=\"pastel\")\n",
    "sns.histplot(x=\"free_sulfur_dioxide\", hue=\"type\", palette=[\"b\", \"crimson\"],data=df, kde=True)\n",
    "sns.despine(offset=10, trim=True)"
   ]
  },
  {
   "cell_type": "code",
   "execution_count": 34,
   "id": "d7c50c2b",
   "metadata": {},
   "outputs": [
    {
     "data": {
      "image/png": "[encoded data removed]",
      "text/plain": [
       "<Figure size 432x288 with 1 Axes>"
      ]
     },
     "metadata": {},
     "output_type": "display_data"
    }
   ],
   "source": [
    "# Grouped bar plot for quality vs total_sulfur_dioxide for wine types\n",
    "sns.set_theme(style=\"darkgrid\", palette=\"pastel\")\n",
    "sns.barplot(x=\"quality\", y=\"total_sulfur_dioxide\",hue=\"type\", palette=[\"b\", \"r\"],data=df)\n",
    "sns.despine(offset=10, trim=True)"
   ]
  },
  {
   "cell_type": "code",
   "execution_count": 35,
   "id": "ef53e2fc",
   "metadata": {},
   "outputs": [
    {
     "data": {
      "image/png": "[encoded data removed]",
      "text/plain": [
       "<Figure size 432x288 with 1 Axes>"
      ]
     },
     "metadata": {},
     "output_type": "display_data"
    }
   ],
   "source": [
    "# Grouped density plot for wine types vs density\n",
    "sns.set_theme(style=\"darkgrid\", palette=\"pastel\")\n",
    "sns.kdeplot(data=df, x=\"density\", hue=\"type\", cut=0, fill=True, common_norm=False, alpha=0.5,palette=[\"ivory\", \"crimson\"])\n",
    "sns.despine(offset=10, trim=True)"
   ]
  },
  {
   "cell_type": "code",
   "execution_count": 36,
   "id": "25f6aeb9",
   "metadata": {},
   "outputs": [
    {
     "data": {
      "image/png": "[encoded data removed]",
      "text/plain": [
       "<Figure size 432x288 with 1 Axes>"
      ]
     },
     "metadata": {},
     "output_type": "display_data"
    }
   ],
   "source": [
    "# Grouped box plot for quality vs pH for wine types\n",
    "sns.set_theme(style=\"darkgrid\", palette=\"pastel\")\n",
    "sns.boxplot(x=\"quality\", y=\"pH\",hue=\"type\", palette=[\"oldlace\", \"crimson\"],data=df)\n",
    "sns.despine(offset=10, trim=True)"
   ]
  },
  {
   "cell_type": "markdown",
   "id": "398ac68e",
   "metadata": {},
   "source": [
    "--> pH values range can be from 2.6 to 4.2 in wine. Wine's chemical and biological stability are very dependent on pH value. Lower pH values are known to improve the stability, so winemakers usually prefer a pH range of 3.0 to 3.5. Hence the values which seems to be outliers in the box plot are not actual outliers and hence are not removing them."
   ]
  },
  {
   "cell_type": "code",
   "execution_count": 37,
   "id": "6c22fadc",
   "metadata": {},
   "outputs": [
    {
     "data": {
      "image/png": "[encoded data removed]",
      "text/plain": [
       "<Figure size 432x288 with 1 Axes>"
      ]
     },
     "metadata": {},
     "output_type": "display_data"
    }
   ],
   "source": [
    "# Grouped box plot for quality vs sulphates for wine types\n",
    "sns.set_theme(style=\"darkgrid\", palette=\"pastel\")\n",
    "sns.barplot(x=\"quality\", y=\"sulphates\",hue=\"type\", palette=[\"b\", \"r\"],data=df)\n",
    "sns.despine(offset=10, trim=True)"
   ]
  },
  {
   "cell_type": "code",
   "execution_count": 38,
   "id": "0d6c24bd",
   "metadata": {},
   "outputs": [
    {
     "data": {
      "image/png": "[encoded data removed]",
      "text/plain": [
       "<Figure size 432x288 with 1 Axes>"
      ]
     },
     "metadata": {},
     "output_type": "display_data"
    }
   ],
   "source": [
    "# Grouped box plot for quality vs alcohol for wine types\n",
    "sns.set_theme(style=\"darkgrid\", palette=\"pastel\")\n",
    "sns.boxplot(x=\"quality\", y=\"alcohol\",hue=\"type\", palette=[\"oldlace\", \"crimson\"],data=df)\n",
    "sns.despine(offset=10, trim=True)"
   ]
  },
  {
   "cell_type": "markdown",
   "id": "0e27794f",
   "metadata": {},
   "source": [
    "--> ABV is the global standard of measurement for alcohol content. The range of ABV for unfortified wine is about 5.5% to 16%. with an average of 10.5% in our case."
   ]
  },
  {
   "cell_type": "code",
   "execution_count": 40,
   "id": "12d9918f",
   "metadata": {},
   "outputs": [
    {
     "data": {
      "text/plain": [
       "[Text(0.5, 0, 'Wine Quality'), Text(0, 0.5, 'Count')]"
      ]
     },
     "execution_count": 40,
     "metadata": {},
     "output_type": "execute_result"
    },
    {
     "data": {
      "image/png": "[encoded data removed]",
      "text/plain": [
       "<Figure size 432x288 with 1 Axes>"
      ]
     },
     "metadata": {},
     "output_type": "display_data"
    }
   ],
   "source": [
    "# Univariate analysis of the frequency of each wine quality\n",
    "quality = df['quality'].value_counts().index\n",
    "count = df['quality'].value_counts().values\n",
    "ax = sns.barplot(x=quality,y=count)\n",
    "ax.set(xlabel='Wine Quality', ylabel='Count')"
   ]
  },
  {
   "cell_type": "code",
   "execution_count": 106,
   "id": "d1f6e803",
   "metadata": {},
   "outputs": [],
   "source": [
    "# Shuffling the data\n",
    "df = df.sample(frac = 1, random_state=0)"
   ]
  },
  {
   "cell_type": "code",
   "execution_count": 107,
   "id": "053a8ce1",
   "metadata": {},
   "outputs": [
    {
     "data": {
      "text/html": [
       "<div>\n",
       "<style scoped>\n",
       "    .dataframe tbody tr th:only-of-type {\n",
       "        vertical-align: middle;\n",
       "    }\n",
       "\n",
       "    .dataframe tbody tr th {\n",
       "        vertical-align: top;\n",
       "    }\n",
       "\n",
       "    .dataframe thead th {\n",
       "        text-align: right;\n",
       "    }\n",
       "</style>\n",
       "<table border=\"1\" class=\"dataframe\">\n",
       "  <thead>\n",
       "    <tr style=\"text-align: right;\">\n",
       "      <th></th>\n",
       "      <th>fixed_acidity</th>\n",
       "      <th>volatile_acidity</th>\n",
       "      <th>citric_acid</th>\n",
       "      <th>residual_sugar</th>\n",
       "      <th>chlorides</th>\n",
       "      <th>free_sulfur_dioxide</th>\n",
       "      <th>total_sulfur_dioxide</th>\n",
       "      <th>density</th>\n",
       "      <th>pH</th>\n",
       "      <th>sulphates</th>\n",
       "      <th>alcohol</th>\n",
       "      <th>quality</th>\n",
       "      <th>type_red</th>\n",
       "      <th>type_white</th>\n",
       "    </tr>\n",
       "  </thead>\n",
       "  <tbody>\n",
       "    <tr>\n",
       "      <th>3175</th>\n",
       "      <td>7.8</td>\n",
       "      <td>0.21</td>\n",
       "      <td>0.34</td>\n",
       "      <td>11.9</td>\n",
       "      <td>0.039</td>\n",
       "      <td>55.0</td>\n",
       "      <td>140.0</td>\n",
       "      <td>0.9959</td>\n",
       "      <td>3.02</td>\n",
       "      <td>0.31</td>\n",
       "      <td>10.3</td>\n",
       "      <td>6</td>\n",
       "      <td>0</td>\n",
       "      <td>1</td>\n",
       "    </tr>\n",
       "    <tr>\n",
       "      <th>4270</th>\n",
       "      <td>6.6</td>\n",
       "      <td>0.21</td>\n",
       "      <td>0.30</td>\n",
       "      <td>9.9</td>\n",
       "      <td>0.041</td>\n",
       "      <td>64.0</td>\n",
       "      <td>174.0</td>\n",
       "      <td>0.9950</td>\n",
       "      <td>3.07</td>\n",
       "      <td>0.50</td>\n",
       "      <td>10.1</td>\n",
       "      <td>6</td>\n",
       "      <td>0</td>\n",
       "      <td>1</td>\n",
       "    </tr>\n",
       "    <tr>\n",
       "      <th>4536</th>\n",
       "      <td>7.3</td>\n",
       "      <td>0.28</td>\n",
       "      <td>0.54</td>\n",
       "      <td>12.9</td>\n",
       "      <td>0.049</td>\n",
       "      <td>62.0</td>\n",
       "      <td>152.0</td>\n",
       "      <td>0.9984</td>\n",
       "      <td>3.06</td>\n",
       "      <td>0.45</td>\n",
       "      <td>9.1</td>\n",
       "      <td>6</td>\n",
       "      <td>0</td>\n",
       "      <td>1</td>\n",
       "    </tr>\n",
       "    <tr>\n",
       "      <th>4492</th>\n",
       "      <td>6.0</td>\n",
       "      <td>0.19</td>\n",
       "      <td>0.37</td>\n",
       "      <td>9.7</td>\n",
       "      <td>0.032</td>\n",
       "      <td>17.0</td>\n",
       "      <td>50.0</td>\n",
       "      <td>0.9932</td>\n",
       "      <td>3.08</td>\n",
       "      <td>0.66</td>\n",
       "      <td>12.0</td>\n",
       "      <td>6</td>\n",
       "      <td>0</td>\n",
       "      <td>1</td>\n",
       "    </tr>\n",
       "    <tr>\n",
       "      <th>4987</th>\n",
       "      <td>7.0</td>\n",
       "      <td>0.62</td>\n",
       "      <td>0.08</td>\n",
       "      <td>1.8</td>\n",
       "      <td>0.076</td>\n",
       "      <td>8.0</td>\n",
       "      <td>24.0</td>\n",
       "      <td>0.9978</td>\n",
       "      <td>3.48</td>\n",
       "      <td>0.53</td>\n",
       "      <td>9.0</td>\n",
       "      <td>5</td>\n",
       "      <td>1</td>\n",
       "      <td>0</td>\n",
       "    </tr>\n",
       "  </tbody>\n",
       "</table>\n",
       "</div>"
      ],
      "text/plain": [
       "      fixed_acidity  volatile_acidity  citric_acid  residual_sugar  chlorides  \\\n",
       "3175            7.8              0.21         0.34            11.9      0.039   \n",
       "4270            6.6              0.21         0.30             9.9      0.041   \n",
       "4536            7.3              0.28         0.54            12.9      0.049   \n",
       "4492            6.0              0.19         0.37             9.7      0.032   \n",
       "4987            7.0              0.62         0.08             1.8      0.076   \n",
       "\n",
       "      free_sulfur_dioxide  total_sulfur_dioxide  density    pH  sulphates  \\\n",
       "3175                 55.0                 140.0   0.9959  3.02       0.31   \n",
       "4270                 64.0                 174.0   0.9950  3.07       0.50   \n",
       "4536                 62.0                 152.0   0.9984  3.06       0.45   \n",
       "4492                 17.0                  50.0   0.9932  3.08       0.66   \n",
       "4987                  8.0                  24.0   0.9978  3.48       0.53   \n",
       "\n",
       "      alcohol  quality  type_red  type_white  \n",
       "3175     10.3        6         0           1  \n",
       "4270     10.1        6         0           1  \n",
       "4536      9.1        6         0           1  \n",
       "4492     12.0        6         0           1  \n",
       "4987      9.0        5         1           0  "
      ]
     },
     "execution_count": 107,
     "metadata": {},
     "output_type": "execute_result"
    }
   ],
   "source": [
    "# Do encoding for the categorical variable Type\n",
    "df = pd.get_dummies(df, ['type'])\n",
    "df.head()"
   ]
  },
  {
   "cell_type": "markdown",
   "id": "72519cf9",
   "metadata": {},
   "source": [
    "--> The Wine type colum is categorical and since the values \"White\" and \"Red\" in it are nominal, we use the dummy variable encoding as shown above."
   ]
  },
  {
   "cell_type": "code",
   "execution_count": 108,
   "id": "36c40a3b",
   "metadata": {},
   "outputs": [],
   "source": [
    "# Separating the predictors and the target variables\n",
    "X = df.drop(columns=['quality'])\n",
    "y = pd.Series(df.quality, name = 'quality')"
   ]
  },
  {
   "cell_type": "markdown",
   "id": "633776de",
   "metadata": {},
   "source": [
    "--> The predictors are saved to X data frame.\n",
    "    The target variable 'quality' is saved as a series y."
   ]
  },
  {
   "cell_type": "code",
   "execution_count": 109,
   "id": "bd030673",
   "metadata": {},
   "outputs": [
    {
     "data": {
      "text/plain": [
       "<AxesSubplot:>"
      ]
     },
     "execution_count": 109,
     "metadata": {},
     "output_type": "execute_result"
    },
    {
     "data": {
      "image/png": "[encoded data removed]",
      "text/plain": [
       "<Figure size 432x288 with 2 Axes>"
      ]
     },
     "metadata": {},
     "output_type": "display_data"
    }
   ],
   "source": [
    "#Correlation in the X DataFrame\n",
    "sns.heatmap(X.corr(),center=0)"
   ]
  },
  {
   "cell_type": "markdown",
   "id": "73333a43",
   "metadata": {},
   "source": [
    "--> The correlation matrix reveals that there is linear correlation between serveral variables as they are represented by the the lighter spots."
   ]
  },
  {
   "cell_type": "code",
   "execution_count": 110,
   "id": "541b3c45",
   "metadata": {},
   "outputs": [
    {
     "data": {
      "text/html": [
       "<div>\n",
       "<style scoped>\n",
       "    .dataframe tbody tr th:only-of-type {\n",
       "        vertical-align: middle;\n",
       "    }\n",
       "\n",
       "    .dataframe tbody tr th {\n",
       "        vertical-align: top;\n",
       "    }\n",
       "\n",
       "    .dataframe thead th {\n",
       "        text-align: right;\n",
       "    }\n",
       "</style>\n",
       "<table border=\"1\" class=\"dataframe\">\n",
       "  <thead>\n",
       "    <tr style=\"text-align: right;\">\n",
       "      <th></th>\n",
       "      <th>fixed_acidity</th>\n",
       "      <th>volatile_acidity</th>\n",
       "      <th>citric_acid</th>\n",
       "      <th>residual_sugar</th>\n",
       "      <th>chlorides</th>\n",
       "      <th>free_sulfur_dioxide</th>\n",
       "      <th>total_sulfur_dioxide</th>\n",
       "      <th>density</th>\n",
       "      <th>pH</th>\n",
       "      <th>sulphates</th>\n",
       "      <th>alcohol</th>\n",
       "      <th>type_red</th>\n",
       "      <th>type_white</th>\n",
       "    </tr>\n",
       "  </thead>\n",
       "  <tbody>\n",
       "    <tr>\n",
       "      <th>1964</th>\n",
       "      <td>6.8</td>\n",
       "      <td>0.31</td>\n",
       "      <td>0.42</td>\n",
       "      <td>6.9</td>\n",
       "      <td>0.046</td>\n",
       "      <td>50.0</td>\n",
       "      <td>173.0</td>\n",
       "      <td>0.9958</td>\n",
       "      <td>3.19</td>\n",
       "      <td>0.46</td>\n",
       "      <td>9.0</td>\n",
       "      <td>0</td>\n",
       "      <td>1</td>\n",
       "    </tr>\n",
       "    <tr>\n",
       "      <th>5382</th>\n",
       "      <td>10.6</td>\n",
       "      <td>0.44</td>\n",
       "      <td>0.68</td>\n",
       "      <td>4.1</td>\n",
       "      <td>0.114</td>\n",
       "      <td>6.0</td>\n",
       "      <td>24.0</td>\n",
       "      <td>0.9970</td>\n",
       "      <td>3.06</td>\n",
       "      <td>0.66</td>\n",
       "      <td>13.4</td>\n",
       "      <td>1</td>\n",
       "      <td>0</td>\n",
       "    </tr>\n",
       "    <tr>\n",
       "      <th>707</th>\n",
       "      <td>7.2</td>\n",
       "      <td>0.18</td>\n",
       "      <td>0.45</td>\n",
       "      <td>4.4</td>\n",
       "      <td>0.046</td>\n",
       "      <td>57.0</td>\n",
       "      <td>166.0</td>\n",
       "      <td>0.9943</td>\n",
       "      <td>3.13</td>\n",
       "      <td>0.62</td>\n",
       "      <td>11.2</td>\n",
       "      <td>0</td>\n",
       "      <td>1</td>\n",
       "    </tr>\n",
       "    <tr>\n",
       "      <th>308</th>\n",
       "      <td>6.2</td>\n",
       "      <td>0.33</td>\n",
       "      <td>0.27</td>\n",
       "      <td>4.9</td>\n",
       "      <td>0.036</td>\n",
       "      <td>30.0</td>\n",
       "      <td>134.0</td>\n",
       "      <td>0.9927</td>\n",
       "      <td>3.20</td>\n",
       "      <td>0.42</td>\n",
       "      <td>10.4</td>\n",
       "      <td>0</td>\n",
       "      <td>1</td>\n",
       "    </tr>\n",
       "    <tr>\n",
       "      <th>1689</th>\n",
       "      <td>7.1</td>\n",
       "      <td>0.16</td>\n",
       "      <td>0.25</td>\n",
       "      <td>1.3</td>\n",
       "      <td>0.034</td>\n",
       "      <td>28.0</td>\n",
       "      <td>123.0</td>\n",
       "      <td>0.9915</td>\n",
       "      <td>3.27</td>\n",
       "      <td>0.55</td>\n",
       "      <td>11.4</td>\n",
       "      <td>0</td>\n",
       "      <td>1</td>\n",
       "    </tr>\n",
       "  </tbody>\n",
       "</table>\n",
       "</div>"
      ],
      "text/plain": [
       "      fixed_acidity  volatile_acidity  citric_acid  residual_sugar  chlorides  \\\n",
       "1964            6.8              0.31         0.42             6.9      0.046   \n",
       "5382           10.6              0.44         0.68             4.1      0.114   \n",
       "707             7.2              0.18         0.45             4.4      0.046   \n",
       "308             6.2              0.33         0.27             4.9      0.036   \n",
       "1689            7.1              0.16         0.25             1.3      0.034   \n",
       "\n",
       "      free_sulfur_dioxide  total_sulfur_dioxide  density    pH  sulphates  \\\n",
       "1964                 50.0                 173.0   0.9958  3.19       0.46   \n",
       "5382                  6.0                  24.0   0.9970  3.06       0.66   \n",
       "707                  57.0                 166.0   0.9943  3.13       0.62   \n",
       "308                  30.0                 134.0   0.9927  3.20       0.42   \n",
       "1689                 28.0                 123.0   0.9915  3.27       0.55   \n",
       "\n",
       "      alcohol  type_red  type_white  \n",
       "1964      9.0         0           1  \n",
       "5382     13.4         1           0  \n",
       "707      11.2         0           1  \n",
       "308      10.4         0           1  \n",
       "1689     11.4         0           1  "
      ]
     },
     "execution_count": 110,
     "metadata": {},
     "output_type": "execute_result"
    }
   ],
   "source": [
    "#Split into training and test set for cross-validation\n",
    "from sklearn.model_selection import train_test_split,cross_val_score\n",
    "X_train,X_test,y_train,y_test = train_test_split(X,y,random_state=99,test_size=0.25)\n",
    "X_test.head()"
   ]
  },
  {
   "cell_type": "markdown",
   "id": "51e4f611",
   "metadata": {},
   "source": [
    "--> The data set is split into training set (75%) and testing set (25%) and is used further for testing the model."
   ]
  },
  {
   "cell_type": "code",
   "execution_count": 111,
   "id": "53fd210f",
   "metadata": {},
   "outputs": [
    {
     "data": {
      "text/plain": [
       "1964    5\n",
       "5382    6\n",
       "707     6\n",
       "308     7\n",
       "1689    6\n",
       "Name: quality, dtype: int64"
      ]
     },
     "execution_count": 111,
     "metadata": {},
     "output_type": "execute_result"
    }
   ],
   "source": [
    "y_test.head()"
   ]
  },
  {
   "cell_type": "code",
   "execution_count": 112,
   "id": "0ed8fc26",
   "metadata": {},
   "outputs": [
    {
     "name": "stderr",
     "output_type": "stream",
     "text": [
      "C:\\Users\\Public\\anaconda3\\lib\\site-packages\\sklearn\\linear_model\\_logistic.py:763: ConvergenceWarning: lbfgs failed to converge (status=1):\n",
      "STOP: TOTAL NO. of ITERATIONS REACHED LIMIT.\n",
      "\n",
      "Increase the number of iterations (max_iter) or scale the data as shown in:\n",
      "    https://scikit-learn.org/stable/modules/preprocessing.html\n",
      "Please also refer to the documentation for alternative solver options:\n",
      "    https://scikit-learn.org/stable/modules/linear_model.html#logistic-regression\n",
      "  n_iter_i = _check_optimize_result(\n"
     ]
    },
    {
     "data": {
      "text/plain": [
       "LogisticRegression()"
      ]
     },
     "execution_count": 112,
     "metadata": {},
     "output_type": "execute_result"
    }
   ],
   "source": [
    "#import Logistic Regression \n",
    "#https://scikit-learn.org/stable/modules/generated/sklearn.linear_model.LogisticRegression.html\n",
    "from sklearn.linear_model import LogisticRegression\n",
    "model = LogisticRegression()\n",
    "model.fit(X_train,y_train)"
   ]
  },
  {
   "cell_type": "markdown",
   "id": "1dc81c92",
   "metadata": {},
   "source": [
    "--> When fiting the model with the training set, we got and error message and we are asked to scale the data or to maximize the number of iterations."
   ]
  },
  {
   "cell_type": "code",
   "execution_count": 113,
   "id": "2e0a9d7b",
   "metadata": {},
   "outputs": [],
   "source": [
    "from sklearn.preprocessing import StandardScaler\n",
    "sc = StandardScaler()\n",
    "X_train_scaled = sc.fit_transform(X_train) #use only training set \n",
    "                                           #to make any adjustments to the model\n",
    "                                           #during training"
   ]
  },
  {
   "cell_type": "markdown",
   "id": "3fd786fc",
   "metadata": {},
   "source": [
    "--> We use the standard scalar to scale the training X attributes to smaller scale."
   ]
  },
  {
   "cell_type": "code",
   "execution_count": 114,
   "id": "229cf538",
   "metadata": {},
   "outputs": [],
   "source": [
    "#Let's create a model again using max iterations to 300\n",
    "model = LogisticRegression(max_iter=300)"
   ]
  },
  {
   "cell_type": "code",
   "execution_count": 115,
   "id": "af7589e1",
   "metadata": {},
   "outputs": [
    {
     "data": {
      "text/plain": [
       "LogisticRegression(max_iter=300)"
      ]
     },
     "execution_count": 115,
     "metadata": {},
     "output_type": "execute_result"
    }
   ],
   "source": [
    "model.fit(X_train_scaled, y_train)"
   ]
  },
  {
   "cell_type": "markdown",
   "id": "2e38f257",
   "metadata": {},
   "source": [
    "--> The scaled X variables and the y training set is fit in to the model and the code ran successfully."
   ]
  },
  {
   "cell_type": "code",
   "execution_count": 116,
   "id": "a715e47c",
   "metadata": {},
   "outputs": [
    {
     "data": {
      "text/plain": [
       "array([-2.0420385 ,  0.14334001,  2.58131718,  3.15922237,  1.59043875,\n",
       "       -0.60170617, -4.83057364])"
      ]
     },
     "execution_count": 116,
     "metadata": {},
     "output_type": "execute_result"
    }
   ],
   "source": [
    "model.intercept_"
   ]
  },
  {
   "cell_type": "markdown",
   "id": "32261a13",
   "metadata": {},
   "source": [
    "--> The intercepts are as above for the quality levels"
   ]
  },
  {
   "cell_type": "code",
   "execution_count": 117,
   "id": "09641c44",
   "metadata": {},
   "outputs": [
    {
     "data": {
      "text/plain": [
       "array([[ 7.45282306e-01,  9.32817286e-01, -2.97839355e-01,\n",
       "        -3.72461816e-02,  7.91274817e-01,  6.10980287e-01,\n",
       "        -7.26350991e-01, -8.67688597e-04,  3.10772527e-01,\n",
       "        -4.61796147e-01, -5.97750326e-01, -6.61758401e-01,\n",
       "         6.61758401e-01],\n",
       "       [-2.67024012e-01,  7.71996223e-01, -7.41483241e-02,\n",
       "        -7.10222537e-01,  1.05559799e-01, -6.90006078e-01,\n",
       "         4.77637170e-02,  7.23512434e-01, -2.80840467e-01,\n",
       "        -9.20142125e-02, -7.32025053e-01, -4.49965565e-01,\n",
       "         4.49965565e-01],\n",
       "       [-6.56834907e-01,  1.60572738e-01, -5.43495852e-02,\n",
       "        -5.25942704e-01,  2.70919539e-01, -3.56580781e-01,\n",
       "         5.71308053e-01,  7.02069964e-01, -5.98055721e-01,\n",
       "        -1.05984229e-01, -7.62989932e-01,  2.76491060e-01,\n",
       "        -2.76491060e-01],\n",
       "       [-6.47860803e-01, -4.32385439e-01, -3.55655696e-02,\n",
       "        -2.74671689e-01,  2.02174537e-01, -1.27870452e-01,\n",
       "         2.74433104e-01,  5.72452143e-01, -4.34422198e-01,\n",
       "         1.09982491e-01,  1.36596634e-01,  3.21316562e-01,\n",
       "        -3.21316562e-01],\n",
       "       [ 1.62374519e-03, -8.06110164e-01, -1.41469719e-02,\n",
       "         5.06997224e-01, -9.96255634e-02,  2.83978400e-03,\n",
       "         1.18478564e-01, -6.55611585e-01, -2.34422383e-03,\n",
       "         4.20901651e-01,  4.27788379e-01,  4.55514435e-01,\n",
       "        -4.55514435e-01],\n",
       "       [-6.71748140e-03, -4.42185835e-01,  2.06689071e-01,\n",
       "         7.82651106e-01, -1.65732106e-01,  3.23946123e-01,\n",
       "        -1.43583740e-01, -9.01359214e-01,  1.23593257e-01,\n",
       "         2.61102278e-01,  6.34462739e-01,  3.48106825e-01,\n",
       "        -3.48106825e-01],\n",
       "       [ 8.31531152e-01, -1.84704809e-01,  2.69360735e-01,\n",
       "         2.58434782e-01, -1.10457102e+00,  2.36691117e-01,\n",
       "        -1.42048707e-01, -4.40196055e-01,  8.81296826e-01,\n",
       "        -1.32191832e-01,  8.93917559e-01, -2.89704915e-01,\n",
       "         2.89704915e-01]])"
      ]
     },
     "execution_count": 117,
     "metadata": {},
     "output_type": "execute_result"
    }
   ],
   "source": [
    "model.coef_"
   ]
  },
  {
   "cell_type": "code",
   "execution_count": 118,
   "id": "15c47b94",
   "metadata": {},
   "outputs": [],
   "source": [
    "#To be able to test we need to scale the test data too (X part only) \n",
    "#using the same scaler that was used to scale the training data\n",
    "X_test_scaled = sc.transform(X_test)"
   ]
  },
  {
   "cell_type": "markdown",
   "id": "179290b3",
   "metadata": {},
   "source": [
    "--> To do the prediction, we need to scale the X test using the standard scalar"
   ]
  },
  {
   "cell_type": "code",
   "execution_count": 119,
   "id": "4ef1a01c",
   "metadata": {},
   "outputs": [
    {
     "data": {
      "text/plain": [
       "array([[0.004, 0.034, 0.613, 0.322, 0.024, 0.003, 0.   ],\n",
       "       [0.001, 0.003, 0.048, 0.601, 0.306, 0.042, 0.   ],\n",
       "       [0.001, 0.004, 0.117, 0.644, 0.206, 0.027, 0.   ],\n",
       "       [0.003, 0.046, 0.37 , 0.481, 0.088, 0.012, 0.   ],\n",
       "       [0.001, 0.012, 0.084, 0.493, 0.375, 0.033, 0.002]])"
      ]
     },
     "execution_count": 119,
     "metadata": {},
     "output_type": "execute_result"
    }
   ],
   "source": [
    "#Predict_proba gives the probabilities P(y=Ci|x)\n",
    "probabilities_test = model.predict_proba(X_test_scaled).round(3)\n",
    "probabilities_test[0:5]"
   ]
  },
  {
   "cell_type": "markdown",
   "id": "71e20c3d",
   "metadata": {},
   "source": [
    "--> The predict_proba method gives the probability of the target variable falling in to each category. And we select the category that has the most likelyhood to contain the target variable for any instance of the given test data."
   ]
  },
  {
   "cell_type": "code",
   "execution_count": 120,
   "id": "10c45da6",
   "metadata": {},
   "outputs": [
    {
     "data": {
      "text/plain": [
       "array([5, 6, 6, 6, 6], dtype=int64)"
      ]
     },
     "execution_count": 120,
     "metadata": {},
     "output_type": "execute_result"
    }
   ],
   "source": [
    "#Whereas predict method gives the class prediction of y values\n",
    "y_predict = model.predict(X_test_scaled)\n",
    "y_predict[0:5]"
   ]
  },
  {
   "cell_type": "markdown",
   "id": "f82566f9",
   "metadata": {},
   "source": [
    "-->The model.predict predicts the category of target variable for each instance of the given test data."
   ]
  },
  {
   "cell_type": "code",
   "execution_count": 121,
   "id": "d0da9f90",
   "metadata": {},
   "outputs": [
    {
     "data": {
      "text/plain": [
       "0.5558889722430608"
      ]
     },
     "execution_count": 121,
     "metadata": {},
     "output_type": "execute_result"
    }
   ],
   "source": [
    "#Performance measures for classification\n",
    "#Accuracy = total no. of correct prediction/total no. of datapoints\n",
    "\n",
    "model.score(X_test_scaled,y_test)"
   ]
  },
  {
   "cell_type": "code",
   "execution_count": 122,
   "id": "68233e1c",
   "metadata": {},
   "outputs": [
    {
     "data": {
      "text/plain": [
       "0.5558889722430608"
      ]
     },
     "execution_count": 122,
     "metadata": {},
     "output_type": "execute_result"
    }
   ],
   "source": [
    "from sklearn.metrics import accuracy_score, confusion_matrix\n",
    "accuracy_score(y_test,y_predict)"
   ]
  },
  {
   "cell_type": "markdown",
   "id": "c78db834",
   "metadata": {},
   "source": [
    "--> The Accuracy of the logistic regression model can be obtained by model.score or accuracy_score which is = 0.5558"
   ]
  },
  {
   "cell_type": "code",
   "execution_count": 123,
   "id": "d2d889d6",
   "metadata": {},
   "outputs": [
    {
     "name": "stdout",
     "output_type": "stream",
     "text": [
      "[0.53488372 0.5533033  0.5533033  0.55105105]\n",
      "K-Fold Cross validation score : 0.5481353446469726\n"
     ]
    }
   ],
   "source": [
    "X_scaled = sc.fit_transform(X)\n",
    "crossvalscore = cross_val_score(LogisticRegression(max_iter=300),X_scaled,y,cv=4)\n",
    "print(crossvalscore)\n",
    "Avg_crossvalscore = np.average(crossvalscore)\n",
    "print(\"K-Fold Cross validation score :\",Avg_crossvalscore)"
   ]
  },
  {
   "cell_type": "code",
   "execution_count": 124,
   "id": "503ddf5f",
   "metadata": {},
   "outputs": [
    {
     "data": {
      "text/plain": [
       "array([[  0,   0,   3,   1,   0,   1],\n",
       "       [  0,   3,  35,  16,   0,   0],\n",
       "       [  1,   1, 271, 171,   2,   0],\n",
       "       [  0,   1, 132, 410,  46,   1],\n",
       "       [  0,   0,   9, 134,  57,   0],\n",
       "       [  0,   0,   1,  22,  15,   0]], dtype=int64)"
      ]
     },
     "execution_count": 124,
     "metadata": {},
     "output_type": "execute_result"
    }
   ],
   "source": [
    "cm1 = confusion_matrix(y_test,y_predict)\n",
    "cm1"
   ]
  },
  {
   "cell_type": "markdown",
   "id": "84634368",
   "metadata": {},
   "source": [
    "--> The confusion matrix will give an idea about the correct and incorrect predictions made by the model for each category of the target variable."
   ]
  },
  {
   "cell_type": "code",
   "execution_count": 125,
   "id": "a33d9635",
   "metadata": {},
   "outputs": [
    {
     "name": "stdout",
     "output_type": "stream",
     "text": [
      "              precision    recall  f1-score   support\n",
      "\n",
      "           3       0.00      0.00      0.00         5\n",
      "           4       0.60      0.06      0.10        54\n",
      "           5       0.60      0.61      0.60       446\n",
      "           6       0.54      0.69      0.61       590\n",
      "           7       0.47      0.28      0.36       200\n",
      "           8       0.00      0.00      0.00        38\n",
      "\n",
      "    accuracy                           0.56      1333\n",
      "   macro avg       0.37      0.27      0.28      1333\n",
      "weighted avg       0.54      0.56      0.53      1333\n",
      "\n"
     ]
    }
   ],
   "source": [
    "from sklearn.metrics import classification_report\n",
    "print(classification_report(y_test,y_predict))"
   ]
  },
  {
   "cell_type": "markdown",
   "id": "c3c0976a",
   "metadata": {},
   "source": [
    "--> Inferences:\n",
    "                The accuracy of the model is only 56% and hence this logistic regression model is not a good choice to predict the wine quality for the given data set. May be a different model (non-linear) will be better to predict the output variable as the correlation study suggests."
   ]
  }
 ],
 "metadata": {
  "kernelspec": {
   "display_name": "Python 3",
   "language": "python",
   "name": "python3"
  },
  "language_info": {
   "codemirror_mode": {
    "name": "ipython",
    "version": 3
   },
   "file_extension": ".py",
   "mimetype": "text/x-python",
   "name": "python",
   "nbconvert_exporter": "python",
   "pygments_lexer": "ipython3",
   "version": "3.8.8"
  }
 },
 "nbformat": 4,
 "nbformat_minor": 5
}
